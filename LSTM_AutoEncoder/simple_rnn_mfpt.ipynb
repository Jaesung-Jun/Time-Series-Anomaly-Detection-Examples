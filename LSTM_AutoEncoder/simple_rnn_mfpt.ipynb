{
 "cells": [
  {
   "cell_type": "markdown",
   "id": "c12fdac0",
   "metadata": {},
   "source": [
    "# Import Packages"
   ]
  },
  {
   "cell_type": "code",
   "execution_count": null,
   "id": "757ebd15",
   "metadata": {},
   "outputs": [],
   "source": [
    "import numpy as np\n",
    "import pandas as pd\n",
    "from scipy.io import loadmat\n",
    "import tensorflow.keras as keras"
   ]
  },
  {
   "cell_type": "markdown",
   "id": "d3a1895b",
   "metadata": {},
   "source": [
    "# Dataset Path Setting\n",
    "make sure the paths are correct.\n"
   ]
  },
  {
   "cell_type": "code",
   "execution_count": null,
   "id": "8cfc181f",
   "metadata": {},
   "outputs": [],
   "source": [
    "class Datasets:\n",
    "    BASE = \"/media/sda1/dataset/NAB/data\"\n",
    "    DATA = \"realAdExchange/\"\n",
    "    CSV1 = \"exchange-2_cpc_results.csv\"\n",
    "\n",
    "    MFPT_BASE = \"/media/sda1/dataset/MFPT/MFPT Fault Data Sets\"\n",
    "    MFPT_DATA = \"1 - Three Baseline Conditions\"\n",
    "    MFPT_MAT = \"baseline_1.mat\""
   ]
  },
  {
   "cell_type": "markdown",
   "id": "f927e091",
   "metadata": {},
   "source": [
    "# Data Preprocessing\n",
    "Preprocessing datas before the training\n",
    "Simply change dataset shape in this example."
   ]
  },
  {
   "cell_type": "code",
   "execution_count": null,
   "id": "7401bb4a",
   "metadata": {},
   "outputs": [],
   "source": [
    "class Preprocessing:\n",
    "\n",
    "    @staticmethod\n",
    "    def create_dataset(data, window_size):\n",
    "        \n",
    "        dataset = np.empty((int(data.size/window_size), window_size, 1))\n",
    "        j = 0\n",
    "        for i in range(int(data.size/window_size)):\n",
    "            dataset[j] = data[i:i+window_size]\n",
    "            j = j + 1\n",
    "\n",
    "        print(f\"Dataset shape changed {data.shape} -> {dataset.shape}.\")\n",
    "        print(f\"Truncated {data.size - dataset.size} values \")\n",
    "        \n",
    "        return dataset"
   ]
  },
  {
   "cell_type": "markdown",
   "id": "63e501d1",
   "metadata": {},
   "source": [
    "# Configuring Model"
   ]
  },
  {
   "cell_type": "code",
   "execution_count": null,
   "id": "51482189",
   "metadata": {},
   "outputs": [],
   "source": [
    "class Model:\n",
    "    #https://machinelearningmastery.com/lstm-autoencoders/\n",
    "    def __init__(self, x_train):\n",
    "        self.x_train = x_train\n",
    "    \n",
    "    def lstm_autoencoder(self, input_size, epochs):\n",
    "        output_size = input_size\n",
    "        model = keras.models.Sequential([\n",
    "            keras.layers.RNN(keras.layers.LSTMCell(128), input_shape=[input_size, 1]),\n",
    "            keras.layers.RepeatVector(output_size),\n",
    "            keras.layers.RNN(keras.layers.LSTMCell(128), return_sequences=True),\n",
    "            keras.layers.TimeDistributed(keras.layers.Dense(1))\n",
    "        ])\n",
    "        model.compile(optimizer='adam', loss='mean_squared_error')\n",
    "        model.fit(self.x_train, self.x_train, epochs=epochs)\n",
    "        result = model.predict(self.x_train)\n",
    "        return result\n",
    "    \n",
    "    def rnn_autoencoder(self, input_size, epochs):\n",
    "        output_size = input_size\n",
    "        model = keras.models.Sequential([\n",
    "            keras.layers.SimpleRNN(128, input_shape=[input_size, 1]),\n",
    "            keras.layers.RepeatVector(output_size),\n",
    "            keras.layers.SimpleRNN(128, return_sequences=True),\n",
    "            keras.layers.TimeDistributed(keras.layers.Dense(1))\n",
    "        ])\n",
    "        model.compile(optimizer='adam', loss='mean_squared_error')\n",
    "        model.fit(self.x_train, self.x_train, epochs=epochs)\n",
    "        result = model.predict(self.x_train)\n",
    "        return result"
   ]
  },
  {
   "cell_type": "markdown",
   "id": "02c626a2",
   "metadata": {},
   "source": [
    "# Load Dataset"
   ]
  },
  {
   "cell_type": "code",
   "execution_count": null,
   "id": "17568070",
   "metadata": {},
   "outputs": [],
   "source": [
    "    import os\n",
    "    path = os.path.join(Datasets.MFPT_BASE, Datasets.MFPT_DATA, Datasets.MFPT_MAT)\n",
    "    \n",
    "    mat = loadmat(path)\n",
    "    keys = mat['bearing'].dtype.fields\n",
    "    mat_dict = {\n",
    "        list(keys.keys())[0] : mat['bearing'][0][0][0],\n",
    "        list(keys.keys())[1] : mat['bearing'][0][0][1],\n",
    "        list(keys.keys())[2] : mat['bearing'][0][0][2],\n",
    "        list(keys.keys())[3] : mat['bearing'][0][0][3]\n",
    "    }\n",
    "    dataset = Preprocessing.create_dataset(mat_dict['gs'], 50)"
   ]
  },
  {
   "cell_type": "markdown",
   "id": "d3b92afe",
   "metadata": {},
   "source": [
    "# LSTM AutoEncoder"
   ]
  },
  {
   "cell_type": "markdown",
   "id": "4e14685f",
   "metadata": {},
   "source": [
    "# Train Model & Save Result"
   ]
  },
  {
   "cell_type": "code",
   "execution_count": null,
   "id": "8f3b3676",
   "metadata": {},
   "outputs": [],
   "source": [
    "import datetime\n",
    "now = datetime.datetime.now().strftime('%Y_%m_%d_%H:%M')\n",
    "\n",
    "epochs = 10\n",
    "input_size = 50\n",
    "\n",
    "model = Model(dataset)\n",
    "result = model.lstm_autoencoder(input_size, epochs=epochs)\n"
   ]
  },
  {
   "cell_type": "code",
   "execution_count": null,
   "id": "e0e65cd4",
   "metadata": {},
   "outputs": [],
   "source": [
    "# Save\n",
    "import os\n",
    "\n",
    "DIR = \"./results\"\n",
    "\n",
    "if not os.path.exists(DIR):\n",
    "    os.makedirs(DIR)\n",
    "    \n",
    "np.save(f'{DIR}/MFPT_lstmAE_{epochs}_{input_size}_{now}.npy', result) #Save Results to npy file\n",
    "\n"
   ]
  },
  {
   "cell_type": "markdown",
   "id": "a5782004",
   "metadata": {},
   "source": [
    "\n",
    "# Load Result"
   ]
  },
  {
   "cell_type": "code",
   "execution_count": null,
   "id": "c8294e20",
   "metadata": {},
   "outputs": [],
   "source": [
    "result = np.load(f'{DIR}/MFPT_lstmAE_{epochs}_{input_size}_{now}.npy')\n",
    "#print(f\"{dataset}, {result}\")"
   ]
  },
  {
   "cell_type": "code",
   "execution_count": null,
   "id": "70993492",
   "metadata": {},
   "outputs": [],
   "source": [
    "import matplotlib.pyplot as plt\n",
    "\n",
    "dataset = np.reshape(dataset, dataset.size)\n",
    "result = np.reshape(result, result.size)\n",
    "\n",
    "fig, axs = plt.subplots(figsize = (20,10)) # This is your answer to resize the figure\n",
    "# The below will help you expand on your question and resize individual elements within your figure. Experiement with the below parameters.\n",
    "axs.set_title(\"Data\", fontsize = 17.5)\n",
    "axs.tick_params(axis = 'x', labelsize = 14)\n",
    "axs.set_xlabel('Timestamp', size = 15)\n",
    "axs.tick_params(axis = 'y', labelsize =14)\n",
    "axs.set_ylabel('Value', size = 15)\n",
    "\n",
    "plt.plot(dataset[:300], 'r', linewidth=1)\n",
    "plt.plot(result[:300], 'g')"
   ]
  }
 ],
 "metadata": {
  "kernelspec": {
   "display_name": "tf-2.5",
   "language": "python",
   "name": "tf-2.5"
  },
  "language_info": {
   "codemirror_mode": {
    "name": "ipython",
    "version": 3
   },
   "file_extension": ".py",
   "mimetype": "text/x-python",
   "name": "python",
   "nbconvert_exporter": "python",
   "pygments_lexer": "ipython3",
   "version": "3.9.13"
  }
 },
 "nbformat": 4,
 "nbformat_minor": 5
}
